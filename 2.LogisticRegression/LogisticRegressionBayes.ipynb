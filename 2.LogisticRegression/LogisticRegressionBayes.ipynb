{
 "cells": [
  {
   "cell_type": "code",
   "execution_count": 47,
   "id": "9db90c32-8dd5-4103-a51f-3c1e9df96eba",
   "metadata": {},
   "outputs": [],
   "source": [
    "import pandas as pd\n",
    "import numpy as np\n",
    "import matplotlib.pyplot as plt\n",
    "from sklearn.model_selection import train_test_split\n",
    "from sklearn.metrics import confusion_matrix, classification_report\n",
    "import time"
   ]
  },
  {
   "cell_type": "code",
   "execution_count": 48,
   "id": "af1bd41b-2206-4190-ad41-33f7971fafeb",
   "metadata": {},
   "outputs": [],
   "source": [
    "# Sigmoid Fonksiyonu\n",
    "def sigmoid(z):\n",
    "    return 1 / (1 + np.exp(-z))"
   ]
  },
  {
   "cell_type": "code",
   "execution_count": 67,
   "id": "a4c37bd2-922a-4341-954b-c57c27e9ab68",
   "metadata": {},
   "outputs": [],
   "source": [
    "# Maliyet Fonksiyonu (Cost Function)\n",
    "def compute_cost(X, y, W, epsilon=1e-10):\n",
    "    Z = np.dot(X, W)\n",
    "    y_pred = sigmoid(Z)\n",
    "    # Epsilon kullanarak hatayı önleme\n",
    "    cost = -1 * np.mean(y * np.log(y_pred + epsilon) + (1 - y) * np.log(1 - y_pred + epsilon))\n",
    "    return cost"
   ]
  },
  {
   "cell_type": "code",
   "execution_count": 68,
   "id": "9676976b-db00-4e5f-adc8-48eb57ec76a1",
   "metadata": {},
   "outputs": [],
   "source": [
    "# Gradient Descent Algoritması\n",
    "def gradient_descent(X, y, W, learning_rate=0.001, n_steps=5000):\n",
    "    m = X.shape[0]\n",
    "    cost_history = []\n",
    "    for i in range(n_steps):\n",
    "        Z = np.dot(X, W)\n",
    "        y_pred = sigmoid(Z)\n",
    "        gradient = np.dot(X.T, (y_pred - y)) / m\n",
    "        W -= learning_rate * gradient\n",
    "\n",
    "        cost = compute_cost(X, y, W)\n",
    "        cost_history.append(cost)\n",
    "\n",
    "        if i % 500 == 0:\n",
    "            print(f\"İterasyon {i} - Maliyet: {cost}\")\n",
    "\n",
    "    return W, cost_history"
   ]
  },
  {
   "cell_type": "code",
   "execution_count": 69,
   "id": "302142e3-c4c2-490e-8ca9-fcf2af70d252",
   "metadata": {},
   "outputs": [],
   "source": [
    "# Model Değerlendirme Fonksiyonu\n",
    "def evaluate_model(y_true, y_pred, training_time, prediction_time):\n",
    "    accuracy = np.mean(y_pred == y_true.values.reshape(-1, 1))\n",
    "    print(f\"\\nModel Accuracy: {accuracy:.4f}\")\n",
    "    print(f\"Eğitim Süresi: {training_time:.4f} saniye\")\n",
    "    print(f\"Tahmin Süresi: {prediction_time:.4f} saniye\")\n",
    "\n",
    "    print(\"\\nKarmaşıklık Matrisi:\")\n",
    "    cm = confusion_matrix(y_true, y_pred)\n",
    "    print(cm)\n",
    "\n",
    "    print(\"\\nSınıflandırma Raporu:\")\n",
    "    print(classification_report(y_true, y_pred))\n",
    "\n",
    "    # Maliyet Grafiği\n",
    "    plt.figure(figsize=(8, 6))\n",
    "    plt.plot(cost_history)\n",
    "    plt.title(\"Maliyet Azalma Grafiği (Cost Reduction)\")\n",
    "    plt.xlabel(\"İterasyon\")\n",
    "    plt.ylabel(\"Maliyet\")\n",
    "    plt.show()\n",
    "\n",
    "    # Karmaşıklık Matrisi Görselleştirme\n",
    "    plt.figure(figsize=(6, 6))\n",
    "    plt.imshow(cm, cmap=\"Blues\", interpolation=\"nearest\")\n",
    "    plt.title(\"Karmaşıklık Matrisi\")\n",
    "    plt.xlabel(\"Tahmin Edilen\")\n",
    "    plt.ylabel(\"Gerçek\")\n",
    "    plt.colorbar()\n",
    "    plt.show()"
   ]
  },
  {
   "cell_type": "code",
   "execution_count": 70,
   "id": "0e93481e-e8fb-4dcb-930d-9b23b9249c6d",
   "metadata": {},
   "outputs": [],
   "source": [
    "# Veri Yükleme ve İnceleme\n",
    "df = pd.read_csv('heart.csv')"
   ]
  },
  {
   "cell_type": "code",
   "execution_count": 71,
   "id": "a3b3d945-4fe4-4519-91e5-f7c581c0fcb1",
   "metadata": {},
   "outputs": [
    {
     "name": "stdout",
     "output_type": "stream",
     "text": [
      "Veri Seti Bilgisi:\n",
      "<class 'pandas.core.frame.DataFrame'>\n",
      "RangeIndex: 1025 entries, 0 to 1024\n",
      "Data columns (total 14 columns):\n",
      " #   Column    Non-Null Count  Dtype  \n",
      "---  ------    --------------  -----  \n",
      " 0   age       1025 non-null   int64  \n",
      " 1   sex       1025 non-null   int64  \n",
      " 2   cp        1025 non-null   int64  \n",
      " 3   trestbps  1025 non-null   int64  \n",
      " 4   chol      1025 non-null   int64  \n",
      " 5   fbs       1025 non-null   int64  \n",
      " 6   restecg   1025 non-null   int64  \n",
      " 7   thalach   1025 non-null   int64  \n",
      " 8   exang     1025 non-null   int64  \n",
      " 9   oldpeak   1025 non-null   float64\n",
      " 10  slope     1025 non-null   int64  \n",
      " 11  ca        1025 non-null   int64  \n",
      " 12  thal      1025 non-null   int64  \n",
      " 13  target    1025 non-null   int64  \n",
      "dtypes: float64(1), int64(13)\n",
      "memory usage: 112.2 KB\n",
      "None\n",
      "\n",
      "İlk 5 Satır:\n",
      "   age  sex  cp  trestbps  chol  fbs  restecg  thalach  exang  oldpeak  slope  \\\n",
      "0   52    1   0       125   212    0        1      168      0      1.0      2   \n",
      "1   53    1   0       140   203    1        0      155      1      3.1      0   \n",
      "2   70    1   0       145   174    0        1      125      1      2.6      0   \n",
      "3   61    1   0       148   203    0        1      161      0      0.0      2   \n",
      "4   62    0   0       138   294    1        1      106      0      1.9      1   \n",
      "\n",
      "   ca  thal  target  \n",
      "0   2     3       0  \n",
      "1   0     3       0  \n",
      "2   0     3       0  \n",
      "3   1     3       0  \n",
      "4   3     2       0  \n"
     ]
    }
   ],
   "source": [
    "# Veri Seti Bilgisi ve İlk 5 Satır\n",
    "print(\"Veri Seti Bilgisi:\")\n",
    "print(df.info())\n",
    "print(\"\\nİlk 5 Satır:\")\n",
    "print(df.head())"
   ]
  },
  {
   "cell_type": "code",
   "execution_count": 72,
   "id": "742784eb-286d-466a-bce0-42aa8f543e01",
   "metadata": {},
   "outputs": [
    {
     "name": "stdout",
     "output_type": "stream",
     "text": [
      "\n",
      "Eksik Veri Sayısı:\n",
      "age         0\n",
      "sex         0\n",
      "cp          0\n",
      "trestbps    0\n",
      "chol        0\n",
      "fbs         0\n",
      "restecg     0\n",
      "thalach     0\n",
      "exang       0\n",
      "oldpeak     0\n",
      "slope       0\n",
      "ca          0\n",
      "thal        0\n",
      "target      0\n",
      "dtype: int64\n"
     ]
    }
   ],
   "source": [
    "# Eksik Veri Kontrolü\n",
    "print(\"\\nEksik Veri Sayısı:\")\n",
    "print(df.isnull().sum())"
   ]
  },
  {
   "cell_type": "code",
   "execution_count": 73,
   "id": "26c348ae-4330-4958-b49f-90d9a1f620f9",
   "metadata": {},
   "outputs": [
    {
     "name": "stdout",
     "output_type": "stream",
     "text": [
      "\n",
      "Hedef Değişken (target) Değer Dağılımı:\n",
      "target\n",
      "1    526\n",
      "0    499\n",
      "Name: count, dtype: int64\n"
     ]
    }
   ],
   "source": [
    "# Hedef Değişkenin Kontrolü\n",
    "print(\"\\nHedef Değişken (target) Değer Dağılımı:\")\n",
    "print(df['target'].value_counts())"
   ]
  },
  {
   "cell_type": "code",
   "execution_count": 74,
   "id": "3f77f6b5-b208-450a-8af4-a39b24e1153a",
   "metadata": {},
   "outputs": [],
   "source": [
    "# Eğitim ve Test Verilerini Hazırlama\n",
    "X = df.drop(columns=[\"target\"])\n",
    "y = df[\"target\"]"
   ]
  },
  {
   "cell_type": "code",
   "execution_count": 75,
   "id": "474274c8-011f-4b1a-a31a-a6e3a72e130e",
   "metadata": {},
   "outputs": [],
   "source": [
    "# Eğitim ve Test Bölme\n",
    "X_train, X_test, y_train, y_test = train_test_split(X, y, test_size=0.2, random_state=42, stratify=y)\n"
   ]
  },
  {
   "cell_type": "code",
   "execution_count": 76,
   "id": "0a46d3e2-c974-4e36-ba29-3a6cb0c14ca7",
   "metadata": {},
   "outputs": [],
   "source": [
    "# Bias Ekleme\n",
    "X_train_bias = np.c_[np.ones((X_train.shape[0], 1)), X_train]\n",
    "X_test_bias = np.c_[np.ones((X_test.shape[0], 1)), X_test]"
   ]
  },
  {
   "cell_type": "code",
   "execution_count": 77,
   "id": "84faa5a8-9910-42a3-bf3e-458857e578c5",
   "metadata": {},
   "outputs": [],
   "source": [
    "# Ağırlıkların Başlatılması\n",
    "weights_initial = np.random.randn(X_train_bias.shape[1], 1) * 0.01"
   ]
  },
  {
   "cell_type": "code",
   "execution_count": 78,
   "id": "a2ba61a8-fe3d-48e6-9c1e-9f03589cc3e9",
   "metadata": {},
   "outputs": [
    {
     "name": "stdout",
     "output_type": "stream",
     "text": [
      "İterasyon 0 - Maliyet: 11.821807767392151\n",
      "İterasyon 500 - Maliyet: 5.535016130519136\n",
      "İterasyon 1000 - Maliyet: 5.433006524034606\n",
      "İterasyon 1500 - Maliyet: 5.40044478737039\n",
      "İterasyon 2000 - Maliyet: 5.369043152506821\n",
      "İterasyon 2500 - Maliyet: 5.338445776760542\n",
      "İterasyon 3000 - Maliyet: 5.308780928805472\n",
      "İterasyon 3500 - Maliyet: 5.279980236470674\n",
      "İterasyon 4000 - Maliyet: 5.2519461588702\n",
      "İterasyon 4500 - Maliyet: 5.22463407838731\n"
     ]
    }
   ],
   "source": [
    "# Eğitim Süresi Ölçümü\n",
    "start_time = time.time()\n",
    "weights_final, cost_history = gradient_descent(X_train_bias, y_train.values.reshape(-1, 1), weights_initial)\n",
    "training_time = time.time() - start_time"
   ]
  },
  {
   "cell_type": "code",
   "execution_count": 79,
   "id": "11b8776b-7340-4fb4-a2f1-1b2502d64054",
   "metadata": {},
   "outputs": [],
   "source": [
    "# Tahmin Süresi Ölçümü\n",
    "start_time = time.time()\n",
    "y_pred_probs = sigmoid(np.dot(X_test_bias, weights_final))\n",
    "y_preds = (y_pred_probs > 0.5).astype(int)\n",
    "prediction_time = time.time() - start_time"
   ]
  },
  {
   "cell_type": "code",
   "execution_count": 80,
   "id": "165d0ae7-55b3-46bb-9368-5a7da89bd730",
   "metadata": {},
   "outputs": [
    {
     "name": "stdout",
     "output_type": "stream",
     "text": [
      "\n",
      "Model Accuracy: 0.5902\n",
      "Eğitim Süresi: 0.2579 saniye\n",
      "Tahmin Süresi: 0.0000 saniye\n",
      "\n",
      "Karmaşıklık Matrisi:\n",
      "[[23 77]\n",
      " [ 7 98]]\n",
      "\n",
      "Sınıflandırma Raporu:\n",
      "              precision    recall  f1-score   support\n",
      "\n",
      "           0       0.77      0.23      0.35       100\n",
      "           1       0.56      0.93      0.70       105\n",
      "\n",
      "    accuracy                           0.59       205\n",
      "   macro avg       0.66      0.58      0.53       205\n",
      "weighted avg       0.66      0.59      0.53       205\n",
      "\n"
     ]
    },
    {
     "data": {
      "image/png": "[encoded data removed]",
      "text/plain": [
       "<Figure size 800x600 with 1 Axes>"
      ]
     },
     "metadata": {},
     "output_type": "display_data"
    },
    {
     "data": {
      "image/png": "[encoded data removed]",
      "text/plain": [
       "<Figure size 600x600 with 2 Axes>"
      ]
     },
     "metadata": {},
     "output_type": "display_data"
    }
   ],
   "source": [
    "# Model Değerlendirme\n",
    "evaluate_model(y_test, y_preds, training_time, prediction_time)\n"
   ]
  },
  {
   "cell_type": "code",
   "execution_count": null,
   "id": "a354f0cd-446f-48ea-880c-b03334c56ce6",
   "metadata": {},
   "outputs": [],
   "source": []
  },
  {
   "cell_type": "code",
   "execution_count": null,
   "id": "14f79ca5-dea8-4f61-b3a1-15282807f1d7",
   "metadata": {},
   "outputs": [],
   "source": []
  },
  {
   "cell_type": "code",
   "execution_count": null,
   "id": "e2031907-08ff-4bf1-b4e0-95aa0d5e479c",
   "metadata": {},
   "outputs": [],
   "source": []
  },
  {
   "cell_type": "code",
   "execution_count": null,
   "id": "9f188137-d286-447e-a63a-c2bb5c25d2ef",
   "metadata": {},
   "outputs": [],
   "source": []
  },
  {
   "cell_type": "code",
   "execution_count": null,
   "id": "c839872f-ba64-448d-bbbe-d81c13d8cf0d",
   "metadata": {},
   "outputs": [],
   "source": []
  },
  {
   "cell_type": "code",
   "execution_count": null,
   "id": "1d96692d-c5b6-4118-92ca-c29424cb0f30",
   "metadata": {},
   "outputs": [],
   "source": []
  }
 ],
 "metadata": {
  "kernelspec": {
   "display_name": "Python 3 (ipykernel)",
   "language": "python",
   "name": "python3"
  },
  "language_info": {
   "codemirror_mode": {
    "name": "ipython",
    "version": 3
   },
   "file_extension": ".py",
   "mimetype": "text/x-python",
   "name": "python",
   "nbconvert_exporter": "python",
   "pygments_lexer": "ipython3",
   "version": "3.12.7"
  }
 },
 "nbformat": 4,
 "nbformat_minor": 5
}
