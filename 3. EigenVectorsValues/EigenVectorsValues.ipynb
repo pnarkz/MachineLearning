{
 "cells": [
  {
   "cell_type": "code",
   "execution_count": 20,
   "id": "d3613674-4e9f-4470-8c8b-ca5a8ab9cf24",
   "metadata": {},
   "outputs": [
    {
     "name": "stdout",
     "output_type": "stream",
     "text": [
      "NumPy ile hesaplanan Özdeğerler:\n",
      " [7.11902668 2.56837289 1.31260044]\n",
      "\n",
      "NumPy ile hesaplanan Özvektörler:\n",
      " [[ 0.57864919 -0.76930576  0.27080208]\n",
      " [-0.66960599 -0.25857088  0.69625349]\n",
      " [ 0.46561028  0.58421721  0.66475357]]\n",
      "\n",
      "Polinom köklerinden hesaplanan Özdeğerler:\n",
      " [7.11902668 2.56837289 1.31260044]\n",
      "\n",
      "SVD tabanlı null-space ile hesaplanan Özvektörler:\n",
      " [[-0.57864919  0.76930576  0.27080208]\n",
      " [ 0.66960599  0.25857088  0.69625349]\n",
      " [-0.46561028 -0.58421721  0.66475357]]\n",
      "\n",
      "Özdeğerlerin sıralı halleri karşılaştırması:\n",
      "NumPy:   [1.31260044 2.56837289 7.11902668]\n",
      "Polinom: [1.31260044 2.56837289 7.11902668]\n"
     ]
    }
   ],
   "source": [
    "import numpy as np\n",
    "\n",
    "# 3x3 örnek matris\n",
    "A = np.array([[4, -2,  1],\n",
    "              [-2, 4, -2],\n",
    "              [1, -2,  3]])\n",
    "\n",
    "# 1. Yöntem: NumPy ile özdeğer ve özvektör hesaplama\n",
    "eigvals1, eigvecs1 = np.linalg.eig(A)\n",
    "\n",
    "# 2. Yöntem: Karakteristik polinomdan kökleri bulma ve SVD ile null-space üzerinden özvektör hesaplama\n",
    "coeffs    = np.poly(A)          # Karakteristik polinom katsayıları\n",
    "eigvals2  = np.real_if_close(np.roots(coeffs))  # Polinom kökleri (özdeğerler)\n",
    "\n",
    "eigvecs2_list = []\n",
    "for val in eigvals2:\n",
    "    M = A - val * np.eye(A.shape[0])\n",
    "    # Null-space vektörünü SVD ile buluyoruz:\n",
    "    U, S, Vh = np.linalg.svd(M)\n",
    "    v = Vh.T[:, -1]                 # Son sütun, en küçük singular value’e karşılık gelir\n",
    "    v = np.real_if_close(v)         # Küçük kompleks gürültü varsa at\n",
    "    v = v / np.linalg.norm(v)       # Normalize et\n",
    "    eigvecs2_list.append(v)\n",
    "\n",
    "eigvecs2 = np.column_stack(eigvecs2_list)\n",
    "\n",
    "# Yazdırma\n",
    "print(\"NumPy ile hesaplanan Özdeğerler:\\n\", eigvals1)\n",
    "print(\"\\nNumPy ile hesaplanan Özvektörler:\\n\", eigvecs1)\n",
    "\n",
    "print(\"\\nPolinom köklerinden hesaplanan Özdeğerler:\\n\", eigvals2)\n",
    "print(\"\\nSVD tabanlı null-space ile hesaplanan Özvektörler:\\n\", eigvecs2)\n",
    "\n",
    "# Sıralı karşılaştırma\n",
    "print(\"\\nÖzdeğerlerin sıralı halleri karşılaştırması:\")\n",
    "print(\"NumPy:  \", np.sort(eigvals1))\n",
    "print(\"Polinom:\", np.sort(eigvals2))\n"
   ]
  },
  {
   "cell_type": "code",
   "execution_count": null,
   "id": "4bfb04d6-e1f1-4f5a-8b46-c3501116a8af",
   "metadata": {},
   "outputs": [],
   "source": []
  }
 ],
 "metadata": {
  "kernelspec": {
   "display_name": "Python 3 (ipykernel)",
   "language": "python",
   "name": "python3"
  },
  "language_info": {
   "codemirror_mode": {
    "name": "ipython",
    "version": 3
   },
   "file_extension": ".py",
   "mimetype": "text/x-python",
   "name": "python",
   "nbconvert_exporter": "python",
   "pygments_lexer": "ipython3",
   "version": "3.12.7"
  }
 },
 "nbformat": 4,
 "nbformat_minor": 5
}
